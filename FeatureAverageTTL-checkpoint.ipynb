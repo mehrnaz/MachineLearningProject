{
 "cells": [
  {
   "cell_type": "code",
   "execution_count": null,
   "id": "c032772d-34ab-4786-8a6a-a8c4729b6c82",
   "metadata": {},
   "outputs": [],
   "source": [
    "from PreliminaryFunctionTTLFeatures import get_TTL_counter\n",
    "from PreliminaryFunctionTTLFeatures import convert_TTL_to_list\n",
    "\n",
    "\n",
    "def average_TTL(list) :\n",
    "    \n",
    "    \"\"\"\n",
    "    Compute the average value of the TTL\n",
    "    list : the list of all the TTL values \n",
    "    return the average value of TTL for a given domain \n",
    "    \"\"\"\n",
    "    average = sum(list)/len(list)\n",
    "    return average \n",
    "\n",
    "#Test \n",
    "average_TTL(list_of_TTL)"
   ]
  }
 ],
 "metadata": {
  "kernelspec": {
   "display_name": "Python 3 (ipykernel)",
   "language": "python",
   "name": "python3"
  },
  "language_info": {
   "codemirror_mode": {
    "name": "ipython",
    "version": 3
   },
   "file_extension": ".py",
   "mimetype": "text/x-python",
   "name": "python",
   "nbconvert_exporter": "python",
   "pygments_lexer": "ipython3",
   "version": "3.9.7"
  }
 },
 "nbformat": 4,
 "nbformat_minor": 5
}
