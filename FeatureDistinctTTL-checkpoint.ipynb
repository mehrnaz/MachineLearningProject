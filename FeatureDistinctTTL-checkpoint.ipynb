{
 "cells": [
  {
   "cell_type": "code",
   "execution_count": null,
   "id": "f28d385e-9589-4e56-9d52-a27e7102ac0d",
   "metadata": {},
   "outputs": [],
   "source": [
    "from PreliminaryFunctionTTLFeatures import get_TTL_counter\n",
    "\n",
    "def number_of_distinct_TTL_values(count) :\n",
    "    \n",
    "    \"\"\"\n",
    "    Compute the number of distinct TTL for a domain \n",
    "    count : the counter of TTL for a domain\n",
    "    return the number of distinct TTL values for a given domain\n",
    "    \"\"\"\n",
    "    count = set(count)\n",
    "    return len(count)"
   ]
  }
 ],
 "metadata": {
  "kernelspec": {
   "display_name": "Python 3 (ipykernel)",
   "language": "python",
   "name": "python3"
  },
  "language_info": {
   "codemirror_mode": {
    "name": "ipython",
    "version": 3
   },
   "file_extension": ".py",
   "mimetype": "text/x-python",
   "name": "python",
   "nbconvert_exporter": "python",
   "pygments_lexer": "ipython3",
   "version": "3.9.7"
  }
 },
 "nbformat": 4,
 "nbformat_minor": 5
}
