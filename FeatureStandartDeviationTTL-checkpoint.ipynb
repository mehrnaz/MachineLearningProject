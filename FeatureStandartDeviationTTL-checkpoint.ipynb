{
 "cells": [
  {
   "cell_type": "code",
   "execution_count": null,
   "id": "6712a075-80d7-493b-8a8c-5d042657d67e",
   "metadata": {},
   "outputs": [],
   "source": [
    "from PreliminaryFunctionTTLFeatures import get_TTL_counter\n",
    "from PreliminaryFunctionTTLFeatures import convert_TTL_to_list\n",
    "\n",
    "import statistics \n",
    "\n",
    "def standart_deviation_of_TTL(list) : \n",
    "    \n",
    "    \"\"\"\n",
    "    Compute the standart deviation of the TTL\n",
    "    list : the list of all the TTL values\n",
    "    return the standart deviation of TTL for a given domain \n",
    "    \"\"\"\n",
    "    \n",
    "    standart_deviation = statistics.stdev(list)\n",
    "    return standart_deviation "
   ]
  }
 ],
 "metadata": {
  "kernelspec": {
   "display_name": "Python 3 (ipykernel)",
   "language": "python",
   "name": "python3"
  },
  "language_info": {
   "codemirror_mode": {
    "name": "ipython",
    "version": 3
   },
   "file_extension": ".py",
   "mimetype": "text/x-python",
   "name": "python",
   "nbconvert_exporter": "python",
   "pygments_lexer": "ipython3",
   "version": "3.9.7"
  }
 },
 "nbformat": 4,
 "nbformat_minor": 5
}
