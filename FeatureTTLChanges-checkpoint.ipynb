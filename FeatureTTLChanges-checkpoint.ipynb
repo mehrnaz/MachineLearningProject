{
 "cells": [
  {
   "cell_type": "code",
   "execution_count": null,
   "id": "a283906e-8965-41f2-9bb8-665344a54318",
   "metadata": {},
   "outputs": [],
   "source": [
    "def number_of_TTL_changes(data) :\n",
    "    \n",
    "    \"\"\"\n",
    "    Compute the average TTL changes \n",
    "    param data : list of data for one domain\n",
    "    return : the average TTL changes for a given domain \n",
    "    \"\"\"\n",
    "    \n",
    "    list_TTL_changes = []\n",
    "    for d in data :\n",
    "        list_TTL_changes.append(d['ttl_changes'])\n",
    "        \n",
    "    average_TTL_changes = sum(list_TTL_changes) / len(list_TTL_changes)\n",
    "    \n",
    "    return average_TTL_changes"
   ]
  }
 ],
 "metadata": {
  "kernelspec": {
   "display_name": "Python 3 (ipykernel)",
   "language": "python",
   "name": "python3"
  },
  "language_info": {
   "codemirror_mode": {
    "name": "ipython",
    "version": 3
   },
   "file_extension": ".py",
   "mimetype": "text/x-python",
   "name": "python",
   "nbconvert_exporter": "python",
   "pygments_lexer": "ipython3",
   "version": "3.9.7"
  }
 },
 "nbformat": 4,
 "nbformat_minor": 5
}
