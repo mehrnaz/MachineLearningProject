{
 "cells": [
  {
   "cell_type": "code",
   "execution_count": null,
   "id": "23cdc908-7fb3-428c-a220-32a9ebfd8787",
   "metadata": {},
   "outputs": [],
   "source": [
    "from PreliminaryFunctionTTLFeatures import get_TTL_counter\n",
    "\n",
    "def percentage_usage_of_specific_TTL_ranges(count):\n",
    "    \n",
    "    sum_TTL = sum(count.values())\n",
    "    \n",
    "    count = dict(count)\n",
    "    range_TTL = {\"0;1\": 0, \"1;10\": 0, \"10:100\": 0, \"100;300\": 0, \"300;900\": 0, \"900;inf\": 0}\n",
    "\n",
    "    for element in count : \n",
    "        if (element>=0) and (element<1) : \n",
    "            range_TTL[\"0;1\"] = count[element]*100/sum_TTL\n",
    "        elif (element>=1) and (element<10) : \n",
    "            range_TTL[\"1;10\"] = count[element]*100/sum_TTL\n",
    "        elif (element>=10) and (element<100) : \n",
    "            range_TTL[\"10;100\"] = count[element]*100/sum_TTL\n",
    "        elif (element>=100) and (element<300) : \n",
    "            range_TTL[\"100;300\"] = count[element]*100/sum_TTL\n",
    "        elif (element>=300) and (element<900) : \n",
    "            range_TTL[\"300;900\"] = count[element]*100/sum_TTL\n",
    "        elif (element>=900) : \n",
    "            range_TTL[\"900;inf\"] = count[element]*100/sum_TTL\n",
    "            \n",
    "    return range_TTL"
   ]
  }
 ],
 "metadata": {
  "kernelspec": {
   "display_name": "Python 3 (ipykernel)",
   "language": "python",
   "name": "python3"
  },
  "language_info": {
   "codemirror_mode": {
    "name": "ipython",
    "version": 3
   },
   "file_extension": ".py",
   "mimetype": "text/x-python",
   "name": "python",
   "nbconvert_exporter": "python",
   "pygments_lexer": "ipython3",
   "version": "3.9.7"
  }
 },
 "nbformat": 4,
 "nbformat_minor": 5
}
