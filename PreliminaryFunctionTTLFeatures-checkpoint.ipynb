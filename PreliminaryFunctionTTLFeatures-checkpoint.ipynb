{
 "cells": [
  {
   "cell_type": "code",
   "execution_count": null,
   "id": "b81d24b9-61d3-46ef-87b2-afc18d34bea9",
   "metadata": {},
   "outputs": [],
   "source": [
    "from OpenDataFunc import get_data_for_domain\n",
    "\n",
    "import collections\n",
    "from collections import Counter\n",
    "\n",
    "def get_TTL_counter(data):\n",
    "    \n",
    "    \"\"\"\n",
    "    get_TTL_counter : the count of all TTL \n",
    "    param data : list of data for one domain\n",
    "    return a counter of all the TTL for a given domain \n",
    "    \"\"\"\n",
    "    TTL_counter = Counter()\n",
    "    for d in data:\n",
    "        c = d['ttl_counts']\n",
    "        TTL_counter += c\n",
    "\n",
    "    return(TTL_counter)\n",
    "\n",
    "def convert_TTL_to_list(count) : \n",
    "    \n",
    "    \"\"\"\n",
    "    Convert a counter to a list \n",
    "    count : the counter we want to convert \n",
    "    return a list with all the element of the count \n",
    "    \"\"\"\n",
    "    count = dict(count)\n",
    "    list = []\n",
    "    for element in count : \n",
    "        for i in range(count[element]) :\n",
    "            list.append(element)\n",
    "    \n",
    "    return list"
   ]
  }
 ],
 "metadata": {
  "kernelspec": {
   "display_name": "Python 3 (ipykernel)",
   "language": "python",
   "name": "python3"
  },
  "language_info": {
   "codemirror_mode": {
    "name": "ipython",
    "version": 3
   },
   "file_extension": ".py",
   "mimetype": "text/x-python",
   "name": "python",
   "nbconvert_exporter": "python",
   "pygments_lexer": "ipython3",
   "version": "3.9.7"
  }
 },
 "nbformat": 4,
 "nbformat_minor": 5
}
